{
  "nbformat": 4,
  "nbformat_minor": 0,
  "metadata": {
    "colab": {
      "name": "01-[TALLER]-VARIABLE_ALEATORIA_Y_DISTRIBUCIONES.ipynb",
      "provenance": [],
      "toc_visible": true,
      "authorship_tag": "ABX9TyO0vUGVhdDiE90OCxXE2PMi",
      "include_colab_link": true
    },
    "kernelspec": {
      "name": "python3",
      "display_name": "Python 3"
    }
  },
  "cells": [
    {
      "cell_type": "markdown",
      "metadata": {
        "id": "view-in-github",
        "colab_type": "text"
      },
      "source": [
        "<a href=\"https://colab.research.google.com/github/UDEA-Esp-Analitica-y-Ciencia-de-Datos/EACD-02-ESTADISTICA/blob/master/01_%5BTALLER%5D_VARIABLE_ALEATORIA_Y_DISTRIBUCIONES.ipynb\" target=\"_parent\"><img src=\"https://colab.research.google.com/assets/colab-badge.svg\" alt=\"Open In Colab\"/></a>"
      ]
    },
    {
      "cell_type": "code",
      "metadata": {
        "id": "Cgj7Ti9uuu1u",
        "colab_type": "code",
        "colab": {
          "base_uri": "https://localhost:8080/",
          "height": 34
        },
        "outputId": "1961a7d4-1f7c-4635-fdc8-23ef2a0bcc68"
      },
      "source": [
        "!wget --no-cache -O init.py -q https://raw.githubusercontent.com/UDEA-Esp-Analitica-y-Ciencia-de-Datos/EACD-02-ESTADISTICA/master/init.py\n",
        "import init; init.init(force_download=False); \n",
        "from IPython.display import Image"
      ],
      "execution_count": null,
      "outputs": [
        {
          "output_type": "stream",
          "text": [
            "replicating local resources\n"
          ],
          "name": "stdout"
        }
      ]
    },
    {
      "cell_type": "code",
      "metadata": {
        "id": "QByH23g6wW-f",
        "colab_type": "code",
        "colab": {
          "base_uri": "https://localhost:8080/",
          "height": 251
        },
        "outputId": "cad9d973-7c86-4ded-ec69-648dd74b0df8"
      },
      "source": [
        "Image(\"local/imgs/udea-datascience.png\")"
      ],
      "execution_count": null,
      "outputs": [
        {
          "output_type": "execute_result",
          "data": {
            "image/png": "[encoded data removed]",
            "text/plain": [
              "<IPython.core.display.Image object>"
            ]
          },
          "metadata": {
            "tags": []
          },
          "execution_count": 45
        }
      ]
    },
    {
      "cell_type": "markdown",
      "metadata": {
        "id": "0w1r4AR8wv-U",
        "colab_type": "text"
      },
      "source": [
        "# **TALLER 1: Variable Aleatoria y Distribuciones**\n",
        "## Desarrollado por: Ph.D. Javier Fernando Botía Valderrama\n",
        "## Universidad de Antioquia"
      ]
    },
    {
      "cell_type": "markdown",
      "metadata": {
        "id": "J6Wcn9m9BO3K",
        "colab_type": "text"
      },
      "source": [
        "Por favor, ingrese la siguiente información:\n",
        "\n",
        "**Nombre Completo:**\n",
        "\n",
        "**Cédula:**\n",
        "\n",
        "**Correo Institucional:**"
      ]
    },
    {
      "cell_type": "markdown",
      "metadata": {
        "id": "XK7W9AyYwQ6a",
        "colab_type": "text"
      },
      "source": [
        "#**PARTE A: Distribución Marginal y Condicional**"
      ]
    },
    {
      "cell_type": "markdown",
      "metadata": {
        "id": "-9dGfITRz4zh",
        "colab_type": "text"
      },
      "source": [
        "Considere el siguiente problema:\n",
        "\n",
        "En una empresa de café llamado San Alberto, famoso por su proceso de quinta selección de grano de café, tiene un lote de café para ser vendido en los próximos tres meses. Hay 2 tipos de café que producen en la finca: mediano y oscuro, para ser vendidos a Cartagena, Bogotá y Medellín. En dicho lote, se utiliza 30 granos de café para hacer selección de los mejores granos, de los cuales hay 6 granos de quinta selección, 16 granos de cuarta selección, y 8 granos de tercera selección. Si se selecciona al azar 2 granos de café, cualés son las probabilidades que salga granos de tercera, cuarta y quinta selección? ¿Cuáles son las probabilidades que de un grano de tercera selección salga un grano de quinta selección y de un grano de cuarta selección salga un grano de quinta selección?\n",
        "\n",
        "Para este problema, considere:\n",
        "\n",
        "$X$ = Número de libras de café de cuarta selección\n",
        "\n",
        "$Y$ = Número de libras de café de quinta selección\n",
        "\n",
        "$$X + Y \\leq 30$$"
      ]
    },
    {
      "cell_type": "code",
      "metadata": {
        "id": "Od_rQF5nyBnu",
        "colab_type": "code",
        "colab": {}
      },
      "source": [
        "from math import factorial\n",
        "\n",
        "def bin_comb(n, k):\n",
        "    return factorial(n) // (factorial(k) * factorial(n - k))"
      ],
      "execution_count": null,
      "outputs": []
    },
    {
      "cell_type": "code",
      "metadata": {
        "id": "DT7v70umxrO2",
        "colab_type": "code",
        "colab": {}
      },
      "source": [
        "import numpy as np\n",
        "import pandas as pd\n",
        "\n",
        "Total_granos_cafe = 30\n",
        "granos_tercera_seleccion = 8\n",
        "granos_cuarta_seleccion = 16\n",
        "granos_quinta_seleccion = 6\n",
        "granos_cafe_elegidos = 2"
      ],
      "execution_count": null,
      "outputs": []
    },
    {
      "cell_type": "code",
      "metadata": {
        "id": "K8b3Xxt82zKu",
        "colab_type": "code",
        "colab": {}
      },
      "source": [
        ""
      ],
      "execution_count": null,
      "outputs": []
    },
    {
      "cell_type": "markdown",
      "metadata": {
        "id": "SNLk2rSh6QwT",
        "colab_type": "text"
      },
      "source": [
        "*Registre aquí las conclusiones:*"
      ]
    },
    {
      "cell_type": "markdown",
      "metadata": {
        "id": "Yqc-hGYV24OJ",
        "colab_type": "text"
      },
      "source": [
        "#**PARTE B: Detección de sobre picos de tensión en neveras**"
      ]
    },
    {
      "cell_type": "markdown",
      "metadata": {
        "id": "OsPVJQOL3cCu",
        "colab_type": "text"
      },
      "source": [
        "Considere el siguiente problema:\n",
        "\n",
        "En una empresa de dispositivos de protección de dispositivos electrónicos, están desarrollando un supresor de picos para las neveras que generen un consumo menor a 1800 W. En los ensayos realizados a un conjunto de diez neveras, se determino que el tiempo de reacción para suprimir un pico de tensión tiene un comportamiento cercano a una distribución Weibull con un parámetro $\\beta = 1.79$. A partir de esta información determine:"
      ]
    },
    {
      "cell_type": "markdown",
      "metadata": {
        "id": "3HUNQ4wyDYmk",
        "colab_type": "text"
      },
      "source": [
        "1) Cuál es el tiempo promedio y la varianza del supresor de picos cuando realiza una acción de protección de las diez neveras, si se considera una distribución Weibull mínimo y máximo?"
      ]
    },
    {
      "cell_type": "code",
      "metadata": {
        "id": "FImaaSW7D4pX",
        "colab_type": "code",
        "colab": {}
      },
      "source": [
        "from scipy.stats import weibull_min, weibull_max\n",
        "\n"
      ],
      "execution_count": null,
      "outputs": []
    },
    {
      "cell_type": "markdown",
      "metadata": {
        "id": "NdeG1rjDEK7o",
        "colab_type": "text"
      },
      "source": [
        "2) Cuál es la probabilidad que el supresor de picos actue frente a un sobre pico de tensión si $X \\geq -0.5$?"
      ]
    },
    {
      "cell_type": "code",
      "metadata": {
        "id": "10k7svbtFBUS",
        "colab_type": "code",
        "colab": {}
      },
      "source": [
        "from scipy.stats import weibull_max\n",
        "\n"
      ],
      "execution_count": null,
      "outputs": []
    },
    {
      "cell_type": "markdown",
      "metadata": {
        "id": "epXIXdK2FGEu",
        "colab_type": "text"
      },
      "source": [
        "3) Cuál es la probabilidad que el supresor de picos actue frente a un sobre pico de tensión si $X \\leq 0.3$?"
      ]
    },
    {
      "cell_type": "code",
      "metadata": {
        "id": "eEBhKjeeFVMF",
        "colab_type": "code",
        "colab": {}
      },
      "source": [
        "from scipy.stats import weibull_min\n",
        "\n"
      ],
      "execution_count": null,
      "outputs": []
    },
    {
      "cell_type": "markdown",
      "metadata": {
        "id": "qUOnGFIrFY54",
        "colab_type": "text"
      },
      "source": [
        "4) Cuál es la probabilidad que el supresor de picos acture frente a un sobre pico de tensión entre $-0.8 \\leq X \\leq -0.5$?\n",
        "\n",
        "**Pista:** Se debe calcular dos valores de probabilidad para $X = -0.8$ y $X = -0.5$"
      ]
    },
    {
      "cell_type": "code",
      "metadata": {
        "id": "uC2L2LfiFwgQ",
        "colab_type": "code",
        "colab": {}
      },
      "source": [
        "from scipy.stats import weibull_max\n",
        "\n"
      ],
      "execution_count": null,
      "outputs": []
    },
    {
      "cell_type": "markdown",
      "metadata": {
        "id": "rttsbymP6HNB",
        "colab_type": "text"
      },
      "source": [
        "*Registre aquí las conclusiones:*"
      ]
    },
    {
      "cell_type": "markdown",
      "metadata": {
        "id": "MgiliY-DQJf5",
        "colab_type": "text"
      },
      "source": [
        "#**PARTE C: Análisis de variables nominales o categóricas**"
      ]
    },
    {
      "cell_type": "markdown",
      "metadata": {
        "id": "8OEDLulEvgdR",
        "colab_type": "text"
      },
      "source": [
        "Considere el siguiente problema:\n",
        "\n",
        "En la siguiente base de datos, hay un registro de un laboratorio de comunicaciones ópticas donde se realizó varias mediciones de desempeño de un enlace de 75 Km de fibra óptica monomodo, utilizando un espectro óptico con un ancho espectral de 200 nm y una tasa de transmisión de 10 Gbps (Giga bits por segundo). Los datos recopilados son en su mayoría datos nominales o categóricas que permite hacer un diagnóstico sencillo del enlace. "
      ]
    },
    {
      "cell_type": "code",
      "metadata": {
        "id": "RhzObcfRzqhn",
        "colab_type": "code",
        "colab": {
          "base_uri": "https://localhost:8080/",
          "height": 677
        },
        "outputId": "460b6525-d1dd-4599-f4c2-072c0e81fd97"
      },
      "source": [
        "import numpy as np\n",
        "import pandas as pd\n",
        "\n",
        "Estado_Potencia = ['Alto', 'Alto', 'Alto', 'Alto', 'Estable', 'Alto', 'Alto', 'Estable', 'Estable', 'Bajo', 'Bajo', 'Bajo', 'Estable', 'Bajo', 'Alto', 'Alto', 'Bajo', 'Estable', 'Bajo', 'Bajo', 'Alto']\n",
        "Estado_Ancho_Espectral = ['Normal', 'Normal', 'Normal', 'Normal', 'Normal', 'Normal', 'Normal', 'Normal', 'Normal', 'Critico', 'Critico', 'Critico', 'Critico', 'Normal', 'Critico','Normal','Critico', 'Deforme', \n",
        "                          'Critico', 'Normal', 'Deforme']\n",
        "Estado_Polarizacion = ['Lineal', 'Lineal', 'Lineal', 'Lineal', 'Lineal', 'Lineal', 'Lineal', 'Lineal', 'Lineal', 'Lineal', 'Lineal', 'No Lineal', 'No Lineal', 'No Lineal', 'No Lineal', 'No Lineal', 'No Lineal', \n",
        "                       'Lineal', 'No Lineal', 'No Lineal', 'No Lineal']                    \n",
        "Bits_Info = np.array([8, 8, 8, 8, 8, 8, 8, 16, 16, 16, 32, 32, 16, 8, 16, 32, 32, 4, 32, 16, 32])\n",
        "\n",
        "DATA = np.vstack((Estado_Potencia,Estado_Ancho_Espectral,Estado_Polarizacion,Bits_Info))\n",
        "datos = pd.DataFrame(data = DATA.T, columns=['Estado Potencia', 'Estado Ancho Espectral', 'Estado Polarizacion', 'Bits'])\n",
        "display(datos)"
      ],
      "execution_count": null,
      "outputs": [
        {
          "output_type": "display_data",
          "data": {
            "text/html": [
              "<div>\n",
              "<style scoped>\n",
              "    .dataframe tbody tr th:only-of-type {\n",
              "        vertical-align: middle;\n",
              "    }\n",
              "\n",
              "    .dataframe tbody tr th {\n",
              "        vertical-align: top;\n",
              "    }\n",
              "\n",
              "    .dataframe thead th {\n",
              "        text-align: right;\n",
              "    }\n",
              "</style>\n",
              "<table border=\"1\" class=\"dataframe\">\n",
              "  <thead>\n",
              "    <tr style=\"text-align: right;\">\n",
              "      <th></th>\n",
              "      <th>Estado Potencia</th>\n",
              "      <th>Estado Ancho Espectral</th>\n",
              "      <th>Estado Polarizacion</th>\n",
              "      <th>Bits</th>\n",
              "    </tr>\n",
              "  </thead>\n",
              "  <tbody>\n",
              "    <tr>\n",
              "      <th>0</th>\n",
              "      <td>Alto</td>\n",
              "      <td>Normal</td>\n",
              "      <td>Lineal</td>\n",
              "      <td>8</td>\n",
              "    </tr>\n",
              "    <tr>\n",
              "      <th>1</th>\n",
              "      <td>Alto</td>\n",
              "      <td>Normal</td>\n",
              "      <td>Lineal</td>\n",
              "      <td>8</td>\n",
              "    </tr>\n",
              "    <tr>\n",
              "      <th>2</th>\n",
              "      <td>Alto</td>\n",
              "      <td>Normal</td>\n",
              "      <td>Lineal</td>\n",
              "      <td>8</td>\n",
              "    </tr>\n",
              "    <tr>\n",
              "      <th>3</th>\n",
              "      <td>Alto</td>\n",
              "      <td>Normal</td>\n",
              "      <td>Lineal</td>\n",
              "      <td>8</td>\n",
              "    </tr>\n",
              "    <tr>\n",
              "      <th>4</th>\n",
              "      <td>Estable</td>\n",
              "      <td>Normal</td>\n",
              "      <td>Lineal</td>\n",
              "      <td>8</td>\n",
              "    </tr>\n",
              "    <tr>\n",
              "      <th>5</th>\n",
              "      <td>Alto</td>\n",
              "      <td>Normal</td>\n",
              "      <td>Lineal</td>\n",
              "      <td>8</td>\n",
              "    </tr>\n",
              "    <tr>\n",
              "      <th>6</th>\n",
              "      <td>Alto</td>\n",
              "      <td>Normal</td>\n",
              "      <td>Lineal</td>\n",
              "      <td>8</td>\n",
              "    </tr>\n",
              "    <tr>\n",
              "      <th>7</th>\n",
              "      <td>Estable</td>\n",
              "      <td>Normal</td>\n",
              "      <td>Lineal</td>\n",
              "      <td>16</td>\n",
              "    </tr>\n",
              "    <tr>\n",
              "      <th>8</th>\n",
              "      <td>Estable</td>\n",
              "      <td>Normal</td>\n",
              "      <td>Lineal</td>\n",
              "      <td>16</td>\n",
              "    </tr>\n",
              "    <tr>\n",
              "      <th>9</th>\n",
              "      <td>Bajo</td>\n",
              "      <td>Critico</td>\n",
              "      <td>Lineal</td>\n",
              "      <td>16</td>\n",
              "    </tr>\n",
              "    <tr>\n",
              "      <th>10</th>\n",
              "      <td>Bajo</td>\n",
              "      <td>Critico</td>\n",
              "      <td>Lineal</td>\n",
              "      <td>32</td>\n",
              "    </tr>\n",
              "    <tr>\n",
              "      <th>11</th>\n",
              "      <td>Bajo</td>\n",
              "      <td>Critico</td>\n",
              "      <td>No Lineal</td>\n",
              "      <td>32</td>\n",
              "    </tr>\n",
              "    <tr>\n",
              "      <th>12</th>\n",
              "      <td>Estable</td>\n",
              "      <td>Critico</td>\n",
              "      <td>No Lineal</td>\n",
              "      <td>16</td>\n",
              "    </tr>\n",
              "    <tr>\n",
              "      <th>13</th>\n",
              "      <td>Bajo</td>\n",
              "      <td>Normal</td>\n",
              "      <td>No Lineal</td>\n",
              "      <td>8</td>\n",
              "    </tr>\n",
              "    <tr>\n",
              "      <th>14</th>\n",
              "      <td>Alto</td>\n",
              "      <td>Critico</td>\n",
              "      <td>No Lineal</td>\n",
              "      <td>16</td>\n",
              "    </tr>\n",
              "    <tr>\n",
              "      <th>15</th>\n",
              "      <td>Alto</td>\n",
              "      <td>Normal</td>\n",
              "      <td>No Lineal</td>\n",
              "      <td>32</td>\n",
              "    </tr>\n",
              "    <tr>\n",
              "      <th>16</th>\n",
              "      <td>Bajo</td>\n",
              "      <td>Critico</td>\n",
              "      <td>No Lineal</td>\n",
              "      <td>32</td>\n",
              "    </tr>\n",
              "    <tr>\n",
              "      <th>17</th>\n",
              "      <td>Estable</td>\n",
              "      <td>Deforme</td>\n",
              "      <td>Lineal</td>\n",
              "      <td>4</td>\n",
              "    </tr>\n",
              "    <tr>\n",
              "      <th>18</th>\n",
              "      <td>Bajo</td>\n",
              "      <td>Critico</td>\n",
              "      <td>No Lineal</td>\n",
              "      <td>32</td>\n",
              "    </tr>\n",
              "    <tr>\n",
              "      <th>19</th>\n",
              "      <td>Bajo</td>\n",
              "      <td>Normal</td>\n",
              "      <td>No Lineal</td>\n",
              "      <td>16</td>\n",
              "    </tr>\n",
              "    <tr>\n",
              "      <th>20</th>\n",
              "      <td>Alto</td>\n",
              "      <td>Deforme</td>\n",
              "      <td>No Lineal</td>\n",
              "      <td>32</td>\n",
              "    </tr>\n",
              "  </tbody>\n",
              "</table>\n",
              "</div>"
            ],
            "text/plain": [
              "   Estado Potencia Estado Ancho Espectral Estado Polarizacion Bits\n",
              "0             Alto                 Normal              Lineal    8\n",
              "1             Alto                 Normal              Lineal    8\n",
              "2             Alto                 Normal              Lineal    8\n",
              "3             Alto                 Normal              Lineal    8\n",
              "4          Estable                 Normal              Lineal    8\n",
              "5             Alto                 Normal              Lineal    8\n",
              "6             Alto                 Normal              Lineal    8\n",
              "7          Estable                 Normal              Lineal   16\n",
              "8          Estable                 Normal              Lineal   16\n",
              "9             Bajo                Critico              Lineal   16\n",
              "10            Bajo                Critico              Lineal   32\n",
              "11            Bajo                Critico           No Lineal   32\n",
              "12         Estable                Critico           No Lineal   16\n",
              "13            Bajo                 Normal           No Lineal    8\n",
              "14            Alto                Critico           No Lineal   16\n",
              "15            Alto                 Normal           No Lineal   32\n",
              "16            Bajo                Critico           No Lineal   32\n",
              "17         Estable                Deforme              Lineal    4\n",
              "18            Bajo                Critico           No Lineal   32\n",
              "19            Bajo                 Normal           No Lineal   16\n",
              "20            Alto                Deforme           No Lineal   32"
            ]
          },
          "metadata": {
            "tags": []
          }
        }
      ]
    },
    {
      "cell_type": "markdown",
      "metadata": {
        "id": "Rx1beXQl36I3",
        "colab_type": "text"
      },
      "source": [
        "A partir de la anterior tabla, determine cualés son las condiciones del enlace que genere un ancho espectral normal, deforme, y crítico, realizando un análisis estadístico con variables nominales. No olviden calcular los estadísticos (media, varianza y desviación estándar nominales)"
      ]
    },
    {
      "cell_type": "code",
      "metadata": {
        "id": "GdKp8UuD4fjQ",
        "colab_type": "code",
        "colab": {}
      },
      "source": [
        ""
      ],
      "execution_count": null,
      "outputs": []
    },
    {
      "cell_type": "markdown",
      "metadata": {
        "id": "4_LzZs7Y6Sal",
        "colab_type": "text"
      },
      "source": [
        "*Registre aquí las conclusiones:*"
      ]
    },
    {
      "cell_type": "markdown",
      "metadata": {
        "id": "35kO37xq4-xe",
        "colab_type": "text"
      },
      "source": [
        "#**PARTE D: Esperanza de una Variable Aleatoria**"
      ]
    },
    {
      "cell_type": "markdown",
      "metadata": {
        "id": "jmUtpmRg5jA3",
        "colab_type": "text"
      },
      "source": [
        "Considere el siguiente problema:\n",
        "\n",
        "En una asignatura llamada *matemáticas discretas I*, se tiene un registro de las notas que sacaron los estudiantes en los cuatro parciales realizados en el último semestre académico. Las notas se organizaron en un DataFrame para realizar un análisis estadístico que permita evaluar el desempeño global de los estudiantes. "
      ]
    },
    {
      "cell_type": "code",
      "metadata": {
        "id": "gyaXQyaI6_h0",
        "colab_type": "code",
        "colab": {
          "base_uri": "https://localhost:8080/",
          "height": 557
        },
        "outputId": "93d253a3-b95f-47f2-edca-20ebb297fd43"
      },
      "source": [
        "import numpy as np\n",
        "import pandas as pd\n",
        "\n",
        "Parcial_1 = np.array([4.3, 5.0, 5.0, 4.5, 4.3, 4.5, 4.3, 5.0, 3.5, 5.0, 5.0, 4.0, 5.0, 4.5, 3.8, 4.2, 5.0])\n",
        "Parcial_2 = np.array([3.6, 4.4, 3.8, 4.3, 4.3, 4.2, 3.6, 4.9, 3.1, 3.8, 3.0, 4.2, 3.9, 3.9, 3.9, 3.1, 3.1])\n",
        "Parcial_3 = np.array([4.3, 5.0, 5.0, 2.3, 5.0, 3.8, 4.8, 4.8, 5.0, 4.7, 3.5, 3.8, 5.0, 4.3, 5.0, 3.9, 5.0])\n",
        "Parcial_4 = np.array([4.5, 4.8, 2.5, 2.8, 3.0, 4.5, 4.5, 5.0, 3.8, 4.3, 4.5, 4.7, 5.0, 3.8, 4.5, 3.0, 5.0])\n",
        "\n",
        "Parciales = pd.DataFrame(data = np.vstack((Parcial_1,Parcial_2,Parcial_3,Parcial_4)).T, columns=['Logica Proposicional', 'Logica Cuantificacional', 'Conjuntos y Relaciones', 'Algebra Booleana'] )\n",
        "display(Parciales)"
      ],
      "execution_count": null,
      "outputs": [
        {
          "output_type": "display_data",
          "data": {
            "text/html": [
              "<div>\n",
              "<style scoped>\n",
              "    .dataframe tbody tr th:only-of-type {\n",
              "        vertical-align: middle;\n",
              "    }\n",
              "\n",
              "    .dataframe tbody tr th {\n",
              "        vertical-align: top;\n",
              "    }\n",
              "\n",
              "    .dataframe thead th {\n",
              "        text-align: right;\n",
              "    }\n",
              "</style>\n",
              "<table border=\"1\" class=\"dataframe\">\n",
              "  <thead>\n",
              "    <tr style=\"text-align: right;\">\n",
              "      <th></th>\n",
              "      <th>Logica Proposicional</th>\n",
              "      <th>Logica Cuantificacional</th>\n",
              "      <th>Conjuntos y Relaciones</th>\n",
              "      <th>Algebra Booleana</th>\n",
              "    </tr>\n",
              "  </thead>\n",
              "  <tbody>\n",
              "    <tr>\n",
              "      <th>0</th>\n",
              "      <td>4.3</td>\n",
              "      <td>3.6</td>\n",
              "      <td>4.3</td>\n",
              "      <td>4.5</td>\n",
              "    </tr>\n",
              "    <tr>\n",
              "      <th>1</th>\n",
              "      <td>5.0</td>\n",
              "      <td>4.4</td>\n",
              "      <td>5.0</td>\n",
              "      <td>4.8</td>\n",
              "    </tr>\n",
              "    <tr>\n",
              "      <th>2</th>\n",
              "      <td>5.0</td>\n",
              "      <td>3.8</td>\n",
              "      <td>5.0</td>\n",
              "      <td>2.5</td>\n",
              "    </tr>\n",
              "    <tr>\n",
              "      <th>3</th>\n",
              "      <td>4.5</td>\n",
              "      <td>4.3</td>\n",
              "      <td>2.3</td>\n",
              "      <td>2.8</td>\n",
              "    </tr>\n",
              "    <tr>\n",
              "      <th>4</th>\n",
              "      <td>4.3</td>\n",
              "      <td>4.3</td>\n",
              "      <td>5.0</td>\n",
              "      <td>3.0</td>\n",
              "    </tr>\n",
              "    <tr>\n",
              "      <th>5</th>\n",
              "      <td>4.5</td>\n",
              "      <td>4.2</td>\n",
              "      <td>3.8</td>\n",
              "      <td>4.5</td>\n",
              "    </tr>\n",
              "    <tr>\n",
              "      <th>6</th>\n",
              "      <td>4.3</td>\n",
              "      <td>3.6</td>\n",
              "      <td>4.8</td>\n",
              "      <td>4.5</td>\n",
              "    </tr>\n",
              "    <tr>\n",
              "      <th>7</th>\n",
              "      <td>5.0</td>\n",
              "      <td>4.9</td>\n",
              "      <td>4.8</td>\n",
              "      <td>5.0</td>\n",
              "    </tr>\n",
              "    <tr>\n",
              "      <th>8</th>\n",
              "      <td>3.5</td>\n",
              "      <td>3.1</td>\n",
              "      <td>5.0</td>\n",
              "      <td>3.8</td>\n",
              "    </tr>\n",
              "    <tr>\n",
              "      <th>9</th>\n",
              "      <td>5.0</td>\n",
              "      <td>3.8</td>\n",
              "      <td>4.7</td>\n",
              "      <td>4.3</td>\n",
              "    </tr>\n",
              "    <tr>\n",
              "      <th>10</th>\n",
              "      <td>5.0</td>\n",
              "      <td>3.0</td>\n",
              "      <td>3.5</td>\n",
              "      <td>4.5</td>\n",
              "    </tr>\n",
              "    <tr>\n",
              "      <th>11</th>\n",
              "      <td>4.0</td>\n",
              "      <td>4.2</td>\n",
              "      <td>3.8</td>\n",
              "      <td>4.7</td>\n",
              "    </tr>\n",
              "    <tr>\n",
              "      <th>12</th>\n",
              "      <td>5.0</td>\n",
              "      <td>3.9</td>\n",
              "      <td>5.0</td>\n",
              "      <td>5.0</td>\n",
              "    </tr>\n",
              "    <tr>\n",
              "      <th>13</th>\n",
              "      <td>4.5</td>\n",
              "      <td>3.9</td>\n",
              "      <td>4.3</td>\n",
              "      <td>3.8</td>\n",
              "    </tr>\n",
              "    <tr>\n",
              "      <th>14</th>\n",
              "      <td>3.8</td>\n",
              "      <td>3.9</td>\n",
              "      <td>5.0</td>\n",
              "      <td>4.5</td>\n",
              "    </tr>\n",
              "    <tr>\n",
              "      <th>15</th>\n",
              "      <td>4.2</td>\n",
              "      <td>3.1</td>\n",
              "      <td>3.9</td>\n",
              "      <td>3.0</td>\n",
              "    </tr>\n",
              "    <tr>\n",
              "      <th>16</th>\n",
              "      <td>5.0</td>\n",
              "      <td>3.1</td>\n",
              "      <td>5.0</td>\n",
              "      <td>5.0</td>\n",
              "    </tr>\n",
              "  </tbody>\n",
              "</table>\n",
              "</div>"
            ],
            "text/plain": [
              "    Logica Proposicional  ...  Algebra Booleana\n",
              "0                    4.3  ...               4.5\n",
              "1                    5.0  ...               4.8\n",
              "2                    5.0  ...               2.5\n",
              "3                    4.5  ...               2.8\n",
              "4                    4.3  ...               3.0\n",
              "5                    4.5  ...               4.5\n",
              "6                    4.3  ...               4.5\n",
              "7                    5.0  ...               5.0\n",
              "8                    3.5  ...               3.8\n",
              "9                    5.0  ...               4.3\n",
              "10                   5.0  ...               4.5\n",
              "11                   4.0  ...               4.7\n",
              "12                   5.0  ...               5.0\n",
              "13                   4.5  ...               3.8\n",
              "14                   3.8  ...               4.5\n",
              "15                   4.2  ...               3.0\n",
              "16                   5.0  ...               5.0\n",
              "\n",
              "[17 rows x 4 columns]"
            ]
          },
          "metadata": {
            "tags": []
          }
        }
      ]
    },
    {
      "cell_type": "markdown",
      "metadata": {
        "id": "o7haFfdb9sBx",
        "colab_type": "text"
      },
      "source": [
        "A partir de esta base de datos, determinar:\n",
        "\n",
        "1.   Hacer los histogramas de cada una de las variables, usando la regla de Freedman-Diaconis (fd)\n",
        "2.   Calcular la media y la varianza de cada una de las variables\n",
        "3.   Determinar cuál de los parciales tienen mejor y peor desempeño los estudiantes.\n",
        "4.   Seleccione una muestra de 6 estudiantes de forma aleatoria. Calcule la media y la varianza muestral. Luego, compare con la media y la varianza poblacional del item 2). Qué resultados se obtiene?\n"
      ]
    },
    {
      "cell_type": "code",
      "metadata": {
        "id": "1wNVlf1y_GCs",
        "colab_type": "code",
        "colab": {}
      },
      "source": [
        ""
      ],
      "execution_count": null,
      "outputs": []
    },
    {
      "cell_type": "markdown",
      "metadata": {
        "id": "7mqwmC06_FQp",
        "colab_type": "text"
      },
      "source": [
        "*Registre aquí las conclusiones:*"
      ]
    },
    {
      "cell_type": "markdown",
      "metadata": {
        "id": "7q2Tmusc_NsO",
        "colab_type": "text"
      },
      "source": [
        "#**PARTE E: Distribución Gaussiana**"
      ]
    },
    {
      "cell_type": "markdown",
      "metadata": {
        "id": "Y8-eTUDn_8rS",
        "colab_type": "text"
      },
      "source": [
        "Considere el siguiente problema:\n",
        "\n",
        "En un laboratorio de detección de fallas en procesos complejos, se desarrollo un algoritmo basado en aprendizaje no supervisado que es capaz de identificar fallas de un proceso de esterificación para una empresa de plásticos. Durante las pruebas realizadas, se encontró que los datos del proceso sigue una distribución Gaussiana que permite facilitar a un experto evaluar si el algoritmo realiza bien o mal su tarea de detección de fallas. Para este caso, se considera dos variables, $x$ e $y$, el cual $x$ representa el rango de tiempo donde el proceso esta en estado normal y $y$ representa el rango de tiempo donde el proceso esta en estado crítico. Tales datos están representados como: "
      ]
    },
    {
      "cell_type": "code",
      "metadata": {
        "id": "yShWuzvjIX2W",
        "colab_type": "code",
        "colab": {
          "base_uri": "https://localhost:8080/",
          "height": 342
        },
        "outputId": "2b975e69-b2d8-4bcc-89a8-80d184911943"
      },
      "source": [
        "from scipy.stats import norm\n",
        "import numpy as np\n",
        "import matplotlib\n",
        "from matplotlib import pyplot\n",
        "\n",
        "matplotlib.rcParams.update({'font.size': 18, 'font.family': 'STIXGeneral', 'mathtext.fontset': 'stix'})\n",
        "\n",
        "x = np.arange(10,30, 0.001) # x representa el tiempo en minutos\n",
        "y = np.arange(45,70, 0.001) # y representa el tiempo en minutos\n",
        "\n",
        "media_1 = 20\n",
        "media_2 = 50\n",
        "desv_std_1 = 0.5 \n",
        "desv_std_2 = 2\n",
        "P_normal = norm.pdf(x, loc = media_1, scale = desv_std_1)\n",
        "P_critico = norm.pdf(y, loc = media_2, scale = desv_std_2)\n",
        "\n",
        "fig = pyplot.figure(figsize=(20,10))\n",
        "ax = fig.add_subplot(2, 2, 1)\n",
        "pyplot.plot(x, P_normal, 'b-', lw = 5, alpha = 0.6, label='Prob Gaussiana NORMAL')\n",
        "pyplot.hist(norm.rvs(size = 1000, loc = media_1, scale = desv_std_1), density=True, histtype='stepfilled', alpha=0.5) # rvs significa variable aleatoria\n",
        "pyplot.xlabel('$x$')\n",
        "pyplot.ylabel('$f(x)$')\n",
        "pyplot.title('Función de densidad de probabilidad proceso normal')\n",
        "\n",
        "ax = fig.add_subplot(2, 2, 2)\n",
        "pyplot.plot(y, P_critico, 'r-', lw = 5, alpha = 0.6, label='Prob Gaussiana NORMAL')\n",
        "pyplot.hist(norm.rvs(size = 1000, loc = media_2, scale = desv_std_2), density=True, histtype='stepfilled', alpha=0.5) # rvs significa variable aleatoria\n",
        "pyplot.xlabel('$y$')\n",
        "pyplot.ylabel('$f(y)$')\n",
        "pyplot.title('Función de densidad de probabilidad proceso crítico')\n",
        "pyplot.show()"
      ],
      "execution_count": null,
      "outputs": [
        {
          "output_type": "display_data",
          "data": {
            "image/png": "[encoded data removed]",
            "text/plain": [
              "<Figure size 1440x720 with 2 Axes>"
            ]
          },
          "metadata": {
            "tags": [],
            "needs_background": "light"
          }
        }
      ]
    },
    {
      "cell_type": "markdown",
      "metadata": {
        "id": "a6rKMiGcKOmA",
        "colab_type": "text"
      },
      "source": [
        "A partir de estas distribuciones, resolver:\n",
        "\n",
        "1.   Calcular la probabilidad entre 18 y 21.5 para el proceso normal.\n",
        "2.   Calcular la probabilidad entre 49 y 52 para el proceso crítico.\n",
        "3.   Calcular los intervalos simétricos para ambas funciones con un $95%$ de las observaciones.\n",
        "4.   A partir del item 3), determine si el rango del intervalo para ambas funciones es mayor o igual a 10, el cual es una condición mínima del experto que exige para considerar eficiente el algoritmo de aprendizaje no supervisado.  \n"
      ]
    },
    {
      "cell_type": "code",
      "metadata": {
        "id": "H-DncgGL-z8E",
        "colab_type": "code",
        "colab": {}
      },
      "source": [
        ""
      ],
      "execution_count": null,
      "outputs": []
    },
    {
      "cell_type": "markdown",
      "metadata": {
        "id": "GqLhzrhq-0gt",
        "colab_type": "text"
      },
      "source": [
        "*Registre aquí las conclusiones:*\n"
      ]
    },
    {
      "cell_type": "markdown",
      "metadata": {
        "id": "V3ZWPZ9r-9cU",
        "colab_type": "text"
      },
      "source": [
        "#**PARTE F: Análisis de dos variables**"
      ]
    },
    {
      "cell_type": "markdown",
      "metadata": {
        "id": "thDnZAzpBJGC",
        "colab_type": "text"
      },
      "source": [
        "Considere el siguiente problema:\n",
        "\n",
        "Un profesor que dicta computación cuántica en la universidad de Princeton tiene dos grupos de estudiantes que asisten a las clases magistrales en dos horarios diferentes. El primer grupo asiste a la sesión de 10 am a 11 am y el segundo grupo asiste de 4 pm a 5 pm. Cuando el profesor realizó el primer test sobre algoritmos cuánticos, observó diferencias pequeñas en ambos grupos pero el profesor no sabía como analizar el rendimiento general de ambos grupos. Por esta razón, el profesor determino que una análisis estadístico sería la clave para solucionar esa inquietud. De acuerdo a la información del profesor, el primer grupo tiene 35 estudiantes y el segundo grupo tiene 32 estudiantes, con un número total de 67 estudiantes en ambos grupos. En el primer grupo, el $74\\%$ de los estudiantes pasaron el test pero el segundo grupo pasaron el $76\\%$ de los estudiantes.\n",
        "\n",
        "A partir de la anterior descripción, determinar:\n",
        "\n",
        "1.   Encontrar una distribución que relacione ambos grupos de estudiantes.\n",
        "2.   A partir del item 1), calcular el máximo valor de probabilidad que permita conocer el número de estudiantes de ambos grupos que tuvieron el mejor desempeño en el examen. \n",
        "3.   Realizar un test estadístico que permita establecer cuál de los grupos de estudiantes tiene mejor rendimiento o si ambos grupos tienen un desempeño similar.\n",
        "\n"
      ]
    },
    {
      "cell_type": "code",
      "metadata": {
        "id": "Fi291jPFF7iX",
        "colab_type": "code",
        "colab": {}
      },
      "source": [
        ""
      ],
      "execution_count": null,
      "outputs": []
    },
    {
      "cell_type": "markdown",
      "metadata": {
        "id": "QIPfC8gCGAt8",
        "colab_type": "text"
      },
      "source": [
        "*Registre aquí las conclusiones:*"
      ]
    },
    {
      "cell_type": "markdown",
      "metadata": {
        "id": "eH6b-hX9LT0Z",
        "colab_type": "text"
      },
      "source": [
        "#**PARTE G: Aproximación con Densidad Kernel**"
      ]
    },
    {
      "cell_type": "markdown",
      "metadata": {
        "id": "7mxg0crI4K9B",
        "colab_type": "text"
      },
      "source": [
        "Considere el siguiente problema:\n",
        "\n",
        "En la empresa Thorlabs, se diseña un nuevo laser de onda continua para una red óptica de 400 Gbps que será probado en una red 100 GPON, útil para satisfacer la alta demanda de usuarios que requiere internet de 120 Megas. Para lograr esta hazaña de la ingeniería, se requiere que el laser tenga un ancho de línea muy pequeño que permita reducir el error de bits de información que se transmite hacia el usuario. En los primeros ensayos, se determino que el ancho de línea corresponde a una posible distribución Gaussiana pero no hay certeza o conclusión que permita establecer dicha afirmación. Por esta razón, los ingenieros que diseñan el laser toman la decisión de usar la densidad kernel para determinar si es válido o no que los datos del ancho de línea tienen dicha distribución. \n",
        "\n",
        "A partir de la anterior descripción, se desea determinar si la densidad kernel determina dicha districuón, útil para modelar el comportamiento del ancho de línea del láser de onda continua.\n",
        "\n",
        "*Nota:* Cuando se utilice *gaussian_kde*, se recomienda usar un valor escalar para ajustar la distribución que permita aproximar a la distribución Gaussiana deseada.\n",
        "\n",
        "gaussian_kde(data, 0.01)"
      ]
    },
    {
      "cell_type": "code",
      "metadata": {
        "id": "IHzRVXGhBJ2C",
        "colab_type": "code",
        "colab": {
          "base_uri": "https://localhost:8080/",
          "height": 617
        },
        "outputId": "33f23948-2648-4c86-a22d-4f3c173b3a4f"
      },
      "source": [
        "from scipy.stats import norm \n",
        "import matplotlib\n",
        "from matplotlib import pyplot\n",
        "import numpy as np\n",
        "\n",
        "matplotlib.rcParams.update({'font.size': 18, 'font.family': 'STIXGeneral', 'mathtext.fontset': 'stix'})\n",
        "\n",
        "ancho_minimo = 3e3 # definido en unidades de Hz\n",
        "ancho_maximo = 3.75e3 # definido en unidades de Hz\n",
        "ancho_linea = np.random.normal(ancho_minimo,ancho_maximo, 10000)\n",
        "\n",
        "fig = pyplot.figure(figsize=(20,10))\n",
        "pyplot.hist(ancho_linea, bins = 100, density = True)\n",
        "pyplot.xlabel('x')\n",
        "pyplot.ylabel('Valores')\n",
        "pyplot.show()"
      ],
      "execution_count": null,
      "outputs": [
        {
          "output_type": "display_data",
          "data": {
            "image/png": "[encoded data removed]",
            "text/plain": [
              "<Figure size 1440x720 with 1 Axes>"
            ]
          },
          "metadata": {
            "tags": [],
            "needs_background": "light"
          }
        }
      ]
    },
    {
      "cell_type": "code",
      "metadata": {
        "id": "p5f9aM0h8ZqZ",
        "colab_type": "code",
        "colab": {}
      },
      "source": [
        ""
      ],
      "execution_count": null,
      "outputs": []
    },
    {
      "cell_type": "markdown",
      "metadata": {
        "id": "XhQeUFIM5x_C",
        "colab_type": "text"
      },
      "source": [
        "*Registre aquí las conclusiones:*"
      ]
    },
    {
      "cell_type": "markdown",
      "metadata": {
        "id": "ANgcqwe79jY2",
        "colab_type": "text"
      },
      "source": [
        "#**PARTE H: Media vs Media Geométrica**"
      ]
    },
    {
      "cell_type": "markdown",
      "metadata": {
        "id": "5pQFZvsF_q55",
        "colab_type": "text"
      },
      "source": [
        "La media geométrica es una medida que que calcula la media de un conjunto de datos por medio del logaritmo natural de los valores:\n",
        "\n",
        "$$\\mu_{geometrica} = \\left ( \\prod_{n=1}^N x_n \\right)^{\\frac{1}{N}} = \\exp \\left( \\frac{\\sum_{n=1}^N ln(x_n)}{N}\\right )$$\n",
        "\n",
        "Según los estadísticos, la media geométrica mejora la localización de una distribución, es decir, que mejora el calculo de la media de la distribución. Sin embargo, esta medida es valida solo para valores de $x$ positivos y $x > 1$, para evitar valores indeterminados por el cálculo del logaritmo natural. "
      ]
    },
    {
      "cell_type": "markdown",
      "metadata": {
        "id": "P9ESr0_BCduF",
        "colab_type": "text"
      },
      "source": [
        "Teniendo presente el concepto de la media geométrica, analizaremos el siguiente problema:\n",
        "\n",
        "En una empresa que ofrece servicios de IPTV, esta transmitiendo en vivo y en directo su programación habitual a los usuarios de un pueblo cercano a Medellin. Debido a que la infraestructura de la red instalada en el pueblo esta en periodo de prueba, se realiza unas pruebas de calidad del servicio y de la percepción del usuario frente a la calidad de la imagen que se esta transmitiendo. En dichas pruebas, se realizaron 380 pruebas a diferentes videos de diversas resoluciones. \n",
        "\n",
        "La base de datos es la siguiente:"
      ]
    },
    {
      "cell_type": "code",
      "metadata": {
        "id": "Od5ahq1QIXP_",
        "colab_type": "code",
        "colab": {
          "base_uri": "https://localhost:8080/",
          "height": 406
        },
        "outputId": "84d1297d-f9f0-4eeb-b429-986ae8a3fcf1"
      },
      "source": [
        "import pandas as pd\n",
        "\n",
        "variables = ['Y-PSNR', 'SSIM', 'VQM', 'QIBF', 'MOS']\n",
        "\n",
        "# Y-PSNR = Peak Signal Noise Ratio\n",
        "# SSIM = Structural Similarity Index Metric\n",
        "# VQM = Video Quality Metric\n",
        "# QIBF = Quality Index Based Frame\n",
        "# MOS average = Mean Opinion Score\n",
        "\n",
        "Datos = pd.read_excel(\"local/data/IPTV.xlsx\", header = None, index_col= False, names = variables)\n",
        "display(Datos)"
      ],
      "execution_count": null,
      "outputs": [
        {
          "output_type": "display_data",
          "data": {
            "text/html": [
              "<div>\n",
              "<style scoped>\n",
              "    .dataframe tbody tr th:only-of-type {\n",
              "        vertical-align: middle;\n",
              "    }\n",
              "\n",
              "    .dataframe tbody tr th {\n",
              "        vertical-align: top;\n",
              "    }\n",
              "\n",
              "    .dataframe thead th {\n",
              "        text-align: right;\n",
              "    }\n",
              "</style>\n",
              "<table border=\"1\" class=\"dataframe\">\n",
              "  <thead>\n",
              "    <tr style=\"text-align: right;\">\n",
              "      <th></th>\n",
              "      <th>Y-PSNR</th>\n",
              "      <th>SSIM</th>\n",
              "      <th>VQM</th>\n",
              "      <th>QIBF</th>\n",
              "      <th>MOS</th>\n",
              "    </tr>\n",
              "  </thead>\n",
              "  <tbody>\n",
              "    <tr>\n",
              "      <th>0</th>\n",
              "      <td>16.96</td>\n",
              "      <td>0.56784</td>\n",
              "      <td>10.96827</td>\n",
              "      <td>0.294333</td>\n",
              "      <td>1.50</td>\n",
              "    </tr>\n",
              "    <tr>\n",
              "      <th>1</th>\n",
              "      <td>38.61</td>\n",
              "      <td>0.94530</td>\n",
              "      <td>0.98380</td>\n",
              "      <td>0.949000</td>\n",
              "      <td>5.00</td>\n",
              "    </tr>\n",
              "    <tr>\n",
              "      <th>2</th>\n",
              "      <td>34.60</td>\n",
              "      <td>0.89800</td>\n",
              "      <td>2.44949</td>\n",
              "      <td>0.841667</td>\n",
              "      <td>4.00</td>\n",
              "    </tr>\n",
              "    <tr>\n",
              "      <th>3</th>\n",
              "      <td>23.06</td>\n",
              "      <td>0.71242</td>\n",
              "      <td>7.39636</td>\n",
              "      <td>0.549300</td>\n",
              "      <td>2.25</td>\n",
              "    </tr>\n",
              "    <tr>\n",
              "      <th>4</th>\n",
              "      <td>18.19</td>\n",
              "      <td>0.60044</td>\n",
              "      <td>10.18556</td>\n",
              "      <td>0.475760</td>\n",
              "      <td>1.50</td>\n",
              "    </tr>\n",
              "    <tr>\n",
              "      <th>...</th>\n",
              "      <td>...</td>\n",
              "      <td>...</td>\n",
              "      <td>...</td>\n",
              "      <td>...</td>\n",
              "      <td>...</td>\n",
              "    </tr>\n",
              "    <tr>\n",
              "      <th>376</th>\n",
              "      <td>16.10</td>\n",
              "      <td>0.63396</td>\n",
              "      <td>10.65375</td>\n",
              "      <td>0.155667</td>\n",
              "      <td>1.25</td>\n",
              "    </tr>\n",
              "    <tr>\n",
              "      <th>377</th>\n",
              "      <td>42.88</td>\n",
              "      <td>0.96772</td>\n",
              "      <td>0.52609</td>\n",
              "      <td>0.950000</td>\n",
              "      <td>5.00</td>\n",
              "    </tr>\n",
              "    <tr>\n",
              "      <th>378</th>\n",
              "      <td>29.99</td>\n",
              "      <td>0.88539</td>\n",
              "      <td>3.79636</td>\n",
              "      <td>0.800667</td>\n",
              "      <td>3.75</td>\n",
              "    </tr>\n",
              "    <tr>\n",
              "      <th>379</th>\n",
              "      <td>23.93</td>\n",
              "      <td>0.79595</td>\n",
              "      <td>5.95574</td>\n",
              "      <td>0.386333</td>\n",
              "      <td>2.50</td>\n",
              "    </tr>\n",
              "    <tr>\n",
              "      <th>380</th>\n",
              "      <td>21.75</td>\n",
              "      <td>0.75971</td>\n",
              "      <td>6.65606</td>\n",
              "      <td>0.164000</td>\n",
              "      <td>2.00</td>\n",
              "    </tr>\n",
              "  </tbody>\n",
              "</table>\n",
              "<p>381 rows × 5 columns</p>\n",
              "</div>"
            ],
            "text/plain": [
              "     Y-PSNR     SSIM       VQM      QIBF   MOS\n",
              "0     16.96  0.56784  10.96827  0.294333  1.50\n",
              "1     38.61  0.94530   0.98380  0.949000  5.00\n",
              "2     34.60  0.89800   2.44949  0.841667  4.00\n",
              "3     23.06  0.71242   7.39636  0.549300  2.25\n",
              "4     18.19  0.60044  10.18556  0.475760  1.50\n",
              "..      ...      ...       ...       ...   ...\n",
              "376   16.10  0.63396  10.65375  0.155667  1.25\n",
              "377   42.88  0.96772   0.52609  0.950000  5.00\n",
              "378   29.99  0.88539   3.79636  0.800667  3.75\n",
              "379   23.93  0.79595   5.95574  0.386333  2.50\n",
              "380   21.75  0.75971   6.65606  0.164000  2.00\n",
              "\n",
              "[381 rows x 5 columns]"
            ]
          },
          "metadata": {
            "tags": []
          }
        }
      ]
    },
    {
      "cell_type": "markdown",
      "metadata": {
        "id": "nYu3BxLTKyPh",
        "colab_type": "text"
      },
      "source": [
        "Considerando la anterior base de datos, la empresa operadora desea conocer el promedio de cada una de las variables pero requiere de un cálculo confiable. A partir de lo anterior, realice el cálculo de la media muestral y de la media geométrica para cada variable."
      ]
    },
    {
      "cell_type": "code",
      "metadata": {
        "id": "VqCOOjWCLZRT",
        "colab_type": "code",
        "colab": {}
      },
      "source": [
        "from scipy.stats import gmean # Media Geométrica\n"
      ],
      "execution_count": null,
      "outputs": []
    },
    {
      "cell_type": "markdown",
      "metadata": {
        "id": "tYgGsTpbLm71",
        "colab_type": "text"
      },
      "source": [
        "A partir de los anteriores resultados, realizar los histogramas de cada una de las variables teniendo en cuenta que se aproximen a una distribución normal. Luego, determinar la desviación estándar de cada variable y posteriormente, realizar la siguiente operación:\n",
        "\n",
        "$$\\mu \\pm \\sigma$$\n",
        "\n",
        "y\n",
        "\n",
        "$$\\mu_{geometrico} \\pm \\sigma$$\n",
        "\n",
        "**Nota:** Cuando se utilice *norm.pdf*, considere $loc = $ como el valor de la media y $scale = $ como el valor de la desviación estándar. "
      ]
    },
    {
      "cell_type": "code",
      "metadata": {
        "id": "p5TPfDptUw8-",
        "colab_type": "code",
        "colab": {}
      },
      "source": [
        ""
      ],
      "execution_count": null,
      "outputs": []
    },
    {
      "cell_type": "markdown",
      "metadata": {
        "id": "SxXlbiidUxlf",
        "colab_type": "text"
      },
      "source": [
        "*Registre aquí las conclusiones:*"
      ]
    }
  ]
}